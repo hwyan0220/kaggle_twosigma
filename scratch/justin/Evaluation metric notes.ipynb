{
 "cells": [
  {
   "cell_type": "markdown",
   "metadata": {},
   "source": [
    "# What are we predicting?"
   ]
  },
  {
   "cell_type": "markdown",
   "metadata": {},
   "source": [
    "Confidence value $\\hat{y}_{ti} \\in [-1, 1]$.\n",
    "\n",
    "* If we expect a stock to have a large positive return relative to the broader market, we should assign the stock a large, positive confidnece value (near 1.0).\n",
    "* If we are unsure, we should assign it a value near zero.\n",
    "* If we expect a stock to have a large negative return, we should assign it a large, negative confidence value (near -1.0)."
   ]
  },
  {
   "cell_type": "markdown",
   "metadata": {},
   "source": [
    "# How is the submission score calculated?"
   ]
  },
  {
   "cell_type": "markdown",
   "metadata": {},
   "source": [
    "For each time period, Kaggle calculates:\n",
    "\n",
    "\n",
    "$x_t = \\sum \\hat{y}_{ti}r_{ti}u_{ti}$,\n",
    "\n",
    "where:\n",
    "\n",
    "* $\\hat{y}_{ti}$ is the confidence value we are tasked with predicting, and\n",
    "* $r_{ti}$ is the 10-day adjusted leading return for day $t$ for instrument $i$, and\n",
    "* $u_{ti}$ is a 0/1 universe variable that controls whether a particular asset is included in scoring on a particular day.\n"
   ]
  },
  {
   "cell_type": "markdown",
   "metadata": {},
   "source": [
    "The final submission score is calculated as:\n",
    "\n",
    "$\\text{score} = \\frac{\\bar{x}_t}{\\sigma(x_t)}$\n",
    "\n",
    "If the standard deviation of predictions is 0, then the score is defined as 0. "
   ]
  },
  {
   "cell_type": "markdown",
   "metadata": {},
   "source": [
    "\n",
    "### What is the impact of having different signs for $\\hat{y}$ and $r$?"
   ]
  },
  {
   "cell_type": "markdown",
   "metadata": {},
   "source": [
    "Positive confidence prediction and negative actual return:\n",
    "* $x_t$ will be negative\n",
    "\n",
    "Negative confidence prediction and postiive actual return:\n",
    "* $x_t$ will be negative"
   ]
  },
  {
   "cell_type": "markdown",
   "metadata": {},
   "source": [
    "### What is the impact of having the same signs for $\\hat{y}$ and $r$? "
   ]
  },
  {
   "cell_type": "markdown",
   "metadata": {},
   "source": [
    "Positive confidence prediction and positive actual return:\n",
    "* $x_t$ will be positive\n",
    "\n",
    "Negative confidence prediction and negative actual return:\n",
    "* $x_t$ will be positive"
   ]
  },
  {
   "cell_type": "markdown",
   "metadata": {},
   "source": [
    "# Testing the behaviour of the submission score "
   ]
  },
  {
   "cell_type": "markdown",
   "metadata": {},
   "source": [
    "* Test on large positive and large negative numbers\n",
    "* Test on large standard deviation of x\n",
    "* Test on small standard deviation of x"
   ]
  },
  {
   "cell_type": "code",
   "execution_count": 3,
   "metadata": {},
   "outputs": [],
   "source": [
    "def submission_score(mean, std_dev):\n",
    "    if std_dev == 0:\n",
    "        return 0\n",
    "    else:\n",
    "        return mean / std_dev"
   ]
  },
  {
   "cell_type": "markdown",
   "metadata": {},
   "source": [
    "* If numerator is large and denominator is small, then the submission score will be large $\\implies$ large average return, small variation in these returns $\\implies$ consistently predicts large returns.\n",
    "* If numerator is large and denominator is larger, then submission score will be small $\\implies$ large average return, but large variation in these returns $\\implies$ doesn't consistently predict large returns. Maybe large average return is result of getting very lucky on a few trades.\n",
    "* If numerator is small and denominator is smaller, then submission score will be large $\\implies$ small average return, even smaller variation in these returns $\\implies$ consistently predicts small returns which may mean that traders can leverage their trades heavily to increase absolute dollar return.\n",
    "* If numerator is small and denominator is larger, then submission score will be small $\\implies$ small average return, but big variation in returns $\\implies$ inconsistently predicts returns."
   ]
  }
 ],
 "metadata": {
  "kernelspec": {
   "display_name": "Python 3",
   "language": "python",
   "name": "python3"
  },
  "language_info": {
   "codemirror_mode": {
    "name": "ipython",
    "version": 3
   },
   "file_extension": ".py",
   "mimetype": "text/x-python",
   "name": "python",
   "nbconvert_exporter": "python",
   "pygments_lexer": "ipython3",
   "version": "3.7.0"
  }
 },
 "nbformat": 4,
 "nbformat_minor": 2
}
